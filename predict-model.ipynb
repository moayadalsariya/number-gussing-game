{
 "cells": [
  {
   "cell_type": "code",
   "execution_count": 64,
   "metadata": {},
   "outputs": [],
   "source": [
    "# import nesscary libary \n",
    "# openCV lib\n",
    "import cv2 as cv \n",
    "# matplotlib lib\n",
    "import matplotlib.pyplot as plt\n",
    "# numpy lib\n",
    "import numpy as np\n",
    "%matplotlib inline\n",
    "# import os\n",
    "import os\n",
    "import tensorflow as tf\n",
    "from tensorflow import keras"
   ]
  },
  {
   "cell_type": "code",
   "execution_count": 65,
   "metadata": {},
   "outputs": [],
   "source": [
    "# load model"
   ]
  },
  {
   "cell_type": "code",
   "execution_count": 66,
   "metadata": {},
   "outputs": [],
   "source": [
    "loaded_model = keras.models.load_model('./model_6classes.h5')"
   ]
  },
  {
   "cell_type": "code",
   "execution_count": 67,
   "metadata": {},
   "outputs": [],
   "source": [
    "def process_img(frame):\n",
    "        cropped_img = frame[1:(frame.shape[0]//2) - 50,1:(frame.shape[1]//2) - 50]\n",
    "        gray = cv.cvtColor(cropped_img, cv.COLOR_BGR2GRAY)\n",
    "        blur = cv.medianBlur(gray, 7)\n",
    "        th3 = cv.adaptiveThreshold(blur,255,cv.ADAPTIVE_THRESH_GAUSSIAN_C,\\\n",
    "            cv.THRESH_BINARY_INV,11,2)\n",
    "#   resizing the image\n",
    "        resized = cv.resize(th3, (100,100), interpolation=cv.INTER_AREA)\n",
    "        return resized\n",
    "        "
   ]
  },
  {
   "cell_type": "code",
   "execution_count": 68,
   "metadata": {},
   "outputs": [],
   "source": [
    "obj = {0:'1',1:'2',2:'3',3:'4',4:'5',5:' '}"
   ]
  },
  {
   "cell_type": "code",
   "execution_count": 69,
   "metadata": {},
   "outputs": [],
   "source": [
    "from random import randint"
   ]
  },
  {
   "cell_type": "code",
   "execution_count": 70,
   "metadata": {},
   "outputs": [],
   "source": [
    "computer_guess = str(randint(1,5))"
   ]
  },
  {
   "cell_type": "code",
   "execution_count": 71,
   "metadata": {},
   "outputs": [],
   "source": [
    "winner = 'waiting'"
   ]
  },
  {
   "cell_type": "code",
   "execution_count": null,
   "metadata": {},
   "outputs": [],
   "source": []
  },
  {
   "cell_type": "code",
   "execution_count": null,
   "metadata": {},
   "outputs": [],
   "source": []
  },
  {
   "cell_type": "code",
   "execution_count": 72,
   "metadata": {},
   "outputs": [],
   "source": [
    "video = cv.VideoCapture(0)\n",
    "\n",
    "while(True):\n",
    "#     read the video images\n",
    "    isTrue, frame = video.read()\n",
    "#   flip the image\n",
    "    frame = cv.flip(frame, 1)\n",
    "#   draw rect at top right corner of screen\n",
    "    cv.rectangle(frame, (0,0), (frame.shape[1]//2 - 50, frame.shape[0]//2 - 50), (0,255,0), thickness = 1)\n",
    "#   Write text\n",
    "    cv.putText(frame, 'Mode:predict model', (0,230), cv.FONT_HERSHEY_SIMPLEX , 1.0, (0,255,0), 2)\n",
    "#   process img\n",
    "    process_images = process_img(frame)\n",
    "#   predict image \n",
    "    text = np.argmax(loaded_model.predict(process_images.reshape(-1,100,100,1)), axis=-1)\n",
    "    if obj[text[0]] == ' ':\n",
    "        winner = 'waiting'\n",
    "        computer_guess = str(randint(1,5))\n",
    "    else:\n",
    "        if obj[text[0]] == computer_guess:\n",
    "            winner = 'User win'\n",
    "            cv.putText(frame, 'Computer play: {}'.format(computer_guess), (0,320), cv.FONT_HERSHEY_SIMPLEX , 1.0, (0,255,0), 2)\n",
    "            \n",
    "        else:\n",
    "            winner = 'computer win'\n",
    "            cv.putText(frame, 'Computer play: {}'.format(computer_guess), (0,320), cv.FONT_HERSHEY_SIMPLEX , 1.0, (0,255,0), 2)\n",
    "            \n",
    "    cv.putText(frame, 'User play : {}'.format(obj[text[0]]), (0,290), cv.FONT_HERSHEY_SIMPLEX , 1.0, (0,255,0), 2)\n",
    "    cv.putText(frame, 'winner: {}'.format(winner), (0,350), cv.FONT_HERSHEY_SIMPLEX , 1.0, (0,255,0), 2)\n",
    "    cv.imshow('frame',frame)\n",
    "    cv.imshow('Threshold image',process_img(frame))\n",
    "    k = cv.waitKey(33)\n",
    "    if k == 27:    # Esc key to stop\n",
    "        break\n",
    "video.release()\n",
    "cv.destroyAllWindows()"
   ]
  }
 ],
 "metadata": {
  "kernelspec": {
   "display_name": "Python 3",
   "language": "python",
   "name": "python3"
  },
  "language_info": {
   "codemirror_mode": {
    "name": "ipython",
    "version": 3
   },
   "file_extension": ".py",
   "mimetype": "text/x-python",
   "name": "python",
   "nbconvert_exporter": "python",
   "pygments_lexer": "ipython3",
   "version": "3.8.3"
  }
 },
 "nbformat": 4,
 "nbformat_minor": 4
}