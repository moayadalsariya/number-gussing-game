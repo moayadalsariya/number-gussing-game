{
 "cells": [
  {
   "cell_type": "code",
   "execution_count": 7,
   "metadata": {},
   "outputs": [],
   "source": [
    "# import nesscary libary \n",
    "# openCV lib\n",
    "import cv2 as cv \n",
    "# matplotlib lib\n",
    "import matplotlib.pyplot as plt\n",
    "# numpy lib\n",
    "import numpy as np\n",
    "%matplotlib inline\n",
    "# import os\n",
    "import os\n"
   ]
  },
  {
   "cell_type": "code",
   "execution_count": 8,
   "metadata": {},
   "outputs": [],
   "source": [
    "# create dir for datasets\n",
    "list_nums = ['1','2','3','4','5','nothing']\n",
    "def create_dir():\n",
    "    if not os.path.exists(\"./datasets\"):\n",
    "        os.makedirs(\"./datasets\")\n",
    "    for i in list_nums:\n",
    "            if not os.path.exists(f\"./datasets/{i}\"):\n",
    "                os.makedirs(f\"./datasets/{i}\")   \n",
    "                \n",
    "create_dir()"
   ]
  },
  {
   "cell_type": "code",
   "execution_count": 9,
   "metadata": {},
   "outputs": [],
   "source": [
    "obj = {'1':0,'2':0,'3':0,'4':0,'5':0,'nothing':0}"
   ]
  },
  {
   "cell_type": "code",
   "execution_count": 10,
   "metadata": {},
   "outputs": [],
   "source": [
    "def draw_number_count():\n",
    "    fix_x = 260\n",
    "    for i in list_nums:\n",
    "        cv.putText(frame, 'Count num {}:{}'.format(i,obj[i]), (0,fix_x), cv.FONT_HERSHEY_SIMPLEX , 0.6, (0,255,0), 2)\n",
    "        fix_x += 30"
   ]
  },
  {
   "cell_type": "code",
   "execution_count": 11,
   "metadata": {},
   "outputs": [],
   "source": [
    "def image_process(key_num):\n",
    "    # convert image to grayscale images  \n",
    "#     gray = cv.cvtColor(frame, cv.COLOR_BGR2GRAY)\n",
    "#   crop image to the selected area\n",
    "    cropped_img = frame[1:(frame.shape[0]//2) - 50,1:(frame.shape[1]//2) - 50]\n",
    "    gray = cv.cvtColor(cropped_img, cv.COLOR_BGR2GRAY)\n",
    "    blur = cv.medianBlur(gray, 7)\n",
    "    th3 = cv.adaptiveThreshold(blur,255,cv.ADAPTIVE_THRESH_GAUSSIAN_C,\\\n",
    "            cv.THRESH_BINARY_INV,11,2)\n",
    "#   resizing the image\n",
    "    resized = cv.resize(th3, (100,100), interpolation=cv.INTER_AREA)\n",
    "#   save the crop images to target folder\n",
    "    cv.imwrite('./datasets/{}/{}.jpg'.format(key_num,str(obj[key_num])), resized)\n",
    "#   increase the counter\n",
    "    obj[key_num] += 1"
   ]
  },
  {
   "cell_type": "code",
   "execution_count": 12,
   "metadata": {},
   "outputs": [],
   "source": [
    "video = cv.VideoCapture(0)\n",
    "\n",
    "while(True):\n",
    "#     read the video images\n",
    "    isTrue, frame = video.read()\n",
    "#   flip the image\n",
    "    frame = cv.flip(frame, 1)\n",
    "#   draw rect at top right corner of screen\n",
    "    cv.rectangle(frame, (0,0), (frame.shape[1]//2 - 50, frame.shape[0]//2 - 50), (0,255,0), thickness = 1)\n",
    "#   Write text\n",
    "    cv.putText(frame, 'Mode:collecting images', (0,230), cv.FONT_HERSHEY_SIMPLEX , 1.0, (0,255,0), 2)\n",
    "    draw_number_count()\n",
    "#   show the image\n",
    "    cv.imshow('frame',frame)\n",
    "    k = cv.waitKey(33)\n",
    "    if k == 27:    # Esc key to stop\n",
    "        break\n",
    "    elif k == -1:  # normally -1 returned,so don't print it\n",
    "        continue\n",
    "    elif k == 49:\n",
    "#       Key 1\n",
    "        image_process('1')\n",
    "    elif k == 50:\n",
    "#       Key 2\n",
    "        image_process('2')\n",
    "    elif k == 51:\n",
    "#       Key 3\n",
    "        image_process('3')\n",
    "    elif k == 52:\n",
    "#       Key 4\n",
    "        image_process('4')\n",
    "    elif k == 53:\n",
    "#       Key 5\n",
    "        image_process('5')    \n",
    "    elif k == 110:\n",
    "        image_process('nothing')\n",
    "    else:\n",
    "        print(k) # else print its value\n",
    "\n",
    "video.release()\n",
    "cv.destroyAllWindows()"
   ]
  },
  {
   "cell_type": "code",
   "execution_count": null,
   "metadata": {},
   "outputs": [],
   "source": []
  }
 ],
 "metadata": {
  "kernelspec": {
   "display_name": "Python 3",
   "language": "python",
   "name": "python3"
  },
  "language_info": {
   "codemirror_mode": {
    "name": "ipython",
    "version": 3
   },
   "file_extension": ".py",
   "mimetype": "text/x-python",
   "name": "python",
   "nbconvert_exporter": "python",
   "pygments_lexer": "ipython3",
   "version": "3.8.3"
  }
 },
 "nbformat": 4,
 "nbformat_minor": 4
}
